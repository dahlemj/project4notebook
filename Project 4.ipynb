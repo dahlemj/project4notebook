{
 "cells": [
  {
   "cell_type": "markdown",
   "id": "ce23dd59",
   "metadata": {},
   "source": [
    "## Project 4 - YouTube Video Metric Clustering"
   ]
  },
  {
   "cell_type": "markdown",
   "id": "a3c20861",
   "metadata": {},
   "source": [
    "## Introduction"
   ]
  },
  {
   "cell_type": "markdown",
   "id": "b98b669a",
   "metadata": {},
   "source": [
    "In this project, I will be utilizing clustering to look at a dataset of YouTube video metrics. I want to be able to see if this data can be split into distinctive clusters by just looking at YouTube video metrics, such as its views, shares, likes, and more. \n",
    "\n",
    "Thinking back on my own experiences with watching videos on YouTube, I do notice certain types of videos and how their views tend to potentially \"cluster\" together. When I click on a video, it's usually one of about three things: A viral/trending video, a video by someone I subscribe to, or it's a video that I specifically searched of a niche thing like how to fix a technical issue on a computer. I want to know if there truly are clusters of videos depending on their metrics and if there are, how many distinct clusters are there?\n",
    "\n",
    "So, for my overall question that I would like to solve this project: \n",
    "\n",
    "<b>Can videos be grouped without genre, creator, or other metadata, and simply by how they perform?</b>"
   ]
  },
  {
   "cell_type": "markdown",
   "id": "9b8bf3f6",
   "metadata": {},
   "source": [
    "## Clustering"
   ]
  },
  {
   "cell_type": "markdown",
   "id": "7f9f3ccb",
   "metadata": {},
   "source": [
    "Before I introduce my dataset and start pre-processing it, I'm going to explain a little bit about what clustering is.\n",
    "\n",
    "Clustering is a form of machine learning that is unsupervised, which means that the chosen clustering algorithm doesn't need any labels or tags on the data to be able to sort it into different groups of data. As a result, clustering can find common characteristics in data that is not or was not visible to other algorithms. \n",
    "\n",
    "In this project, I'm going to be using two different algorithms and methods of clustering, K-means clustering and agglomerative clustering.\n",
    "\n",
    "K-Means clustering involves picking a number of clusters and plotting them in a plane. From there, center points are assigned to the clusters of data that appear. From there, the center points are recalculated based on new data and adjust to be in the center of the cluster and continue to reiteratively adjust themselves until they no longer are moving and have found their true center over a cluster of data.\n",
    "\n",
    "Agglomerative clustering is a different way to cluster data, and involves hierarchy. To summarize, data, when initially thrown into this algorithm, starts as its own cluster, then combines with other similar data. When these data points merge together, they are making new clusters, while decreasing the overall number of clusters. The combination of clusters can be plotted out using a dendrogram and will eventually cluster all data into one. From there, we can decide how many clusters we want to visualize out of the data."
   ]
  },
  {
   "cell_type": "markdown",
   "id": "57d55964",
   "metadata": {},
   "source": [
    "## Introducing the Data"
   ]
  },
  {
   "cell_type": "markdown",
   "id": "35608456",
   "metadata": {},
   "source": [
    "The data I've found for this project can be found on Kaggle <a href=\"https://www.kaggle.com/datasets/thedevastator/youtube-analytics-how-to-keep-your-viewers-engag\">here</a>. There are a few different csv files to pick from with metric data about YouTube videos, but I'll be using just one csv to keep things simple. I'll be pulling from the Aggregated_Metrics_By_Video.csv file. The Videos used in this dataset are mostly all technology/data science themed uploaded between June 2017 and January 2022 and are real videos pulled from YouTube.\n",
    "\n",
    "This file includes metrics such as:\n",
    "\n",
    "<ul>\n",
    "    <li>Comments added: The number of comments on the video</li>\n",
    "    <li>Views: The number of views the video has</li>\n",
    "    <li>Shares: The number of times the video was shared</li>\n",
    "    <li>Likes: The number of likes the video has</li>\n",
    "    <li>Dislikes: The number of dislikes the video has</li>\n",
    "    <li>RPM (USD): The revenue per thousand views the video has</li>\n",
    "    <li>CPM (USD): The cost per thousand views the vidoe has</li>\n",
    "    <li>Watch time (hours): The total number of hours the video has been watched.</li>\n",
    "</ul>"
   ]
  },
  {
   "cell_type": "markdown",
   "id": "4a0f8592",
   "metadata": {},
   "source": [
    "Basically, this file does not include any other metadata that could explain these metrics, such as if the video was from a popular creator or was just a viral video, and it just has the metrics themselves."
   ]
  },
  {
   "cell_type": "markdown",
   "id": "cb6da1de",
   "metadata": {},
   "source": [
    "## Data Understanding / Pre-Processing"
   ]
  },
  {
   "cell_type": "markdown",
   "id": "5c07fcf2",
   "metadata": {},
   "source": [
    "Before getting super into the clustering of the data, I'll explore it a little bit and see if I can notice any trends in the data. I'll also do some pre-processing to clean the dataset before trying to visualize."
   ]
  },
  {
   "cell_type": "code",
   "execution_count": 1,
   "id": "663d7d0c",
   "metadata": {},
   "outputs": [
    {
     "data": {
      "text/html": [
       "<div>\n",
       "<style scoped>\n",
       "    .dataframe tbody tr th:only-of-type {\n",
       "        vertical-align: middle;\n",
       "    }\n",
       "\n",
       "    .dataframe tbody tr th {\n",
       "        vertical-align: top;\n",
       "    }\n",
       "\n",
       "    .dataframe thead th {\n",
       "        text-align: right;\n",
       "    }\n",
       "</style>\n",
       "<table border=\"1\" class=\"dataframe\">\n",
       "  <thead>\n",
       "    <tr style=\"text-align: right;\">\n",
       "      <th></th>\n",
       "      <th>Video</th>\n",
       "      <th>Video title</th>\n",
       "      <th>Video pub­lish time</th>\n",
       "      <th>Com­ments ad­ded</th>\n",
       "      <th>Shares</th>\n",
       "      <th>Dis­likes</th>\n",
       "      <th>Likes</th>\n",
       "      <th>Sub­scribers lost</th>\n",
       "      <th>Sub­scribers gained</th>\n",
       "      <th>RPM (USD)</th>\n",
       "      <th>CPM (USD)</th>\n",
       "      <th>Av­er­age per­cent­age viewed (%)</th>\n",
       "      <th>Av­er­age view dur­a­tion</th>\n",
       "      <th>Views</th>\n",
       "      <th>Watch time (hours)</th>\n",
       "      <th>Sub­scribers</th>\n",
       "      <th>Your es­tim­ated rev­en­ue (USD)</th>\n",
       "      <th>Im­pres­sions</th>\n",
       "      <th>Im­pres­sions click-through rate (%)</th>\n",
       "    </tr>\n",
       "  </thead>\n",
       "  <tbody>\n",
       "    <tr>\n",
       "      <th>0</th>\n",
       "      <td>Total</td>\n",
       "      <td>NaN</td>\n",
       "      <td>NaN</td>\n",
       "      <td>14197</td>\n",
       "      <td>39640</td>\n",
       "      <td>3902</td>\n",
       "      <td>225021</td>\n",
       "      <td>45790</td>\n",
       "      <td>229241</td>\n",
       "      <td>5.276</td>\n",
       "      <td>11.990</td>\n",
       "      <td>26.61</td>\n",
       "      <td>0:03:25</td>\n",
       "      <td>5568487</td>\n",
       "      <td>317602.3536</td>\n",
       "      <td>183451</td>\n",
       "      <td>29068.652</td>\n",
       "      <td>100954064</td>\n",
       "      <td>3.16</td>\n",
       "    </tr>\n",
       "    <tr>\n",
       "      <th>1</th>\n",
       "      <td>4OZip0cgOho</td>\n",
       "      <td>How I Would Learn Data Science (If I Had to St...</td>\n",
       "      <td>May 8, 2020</td>\n",
       "      <td>907</td>\n",
       "      <td>9583</td>\n",
       "      <td>942</td>\n",
       "      <td>46903</td>\n",
       "      <td>451</td>\n",
       "      <td>46904</td>\n",
       "      <td>6.353</td>\n",
       "      <td>12.835</td>\n",
       "      <td>36.65</td>\n",
       "      <td>0:03:09</td>\n",
       "      <td>1253559</td>\n",
       "      <td>65850.7042</td>\n",
       "      <td>46453</td>\n",
       "      <td>7959.533</td>\n",
       "      <td>26498799</td>\n",
       "      <td>3.14</td>\n",
       "    </tr>\n",
       "    <tr>\n",
       "      <th>2</th>\n",
       "      <td>78LjdAAw0wA</td>\n",
       "      <td>100K Channel Update + AMA Stream!</td>\n",
       "      <td>Nov 12, 2020</td>\n",
       "      <td>412</td>\n",
       "      <td>4</td>\n",
       "      <td>4</td>\n",
       "      <td>130</td>\n",
       "      <td>15</td>\n",
       "      <td>12</td>\n",
       "      <td>2.668</td>\n",
       "      <td>6.259</td>\n",
       "      <td>6.26</td>\n",
       "      <td>0:05:14</td>\n",
       "      <td>2291</td>\n",
       "      <td>200.2966</td>\n",
       "      <td>-3</td>\n",
       "      <td>6.113</td>\n",
       "      <td>188318</td>\n",
       "      <td>0.72</td>\n",
       "    </tr>\n",
       "    <tr>\n",
       "      <th>3</th>\n",
       "      <td>hO_YKK_0Qck</td>\n",
       "      <td>Uber Driver to Machine Learning Engineer in 9 ...</td>\n",
       "      <td>Jul 16, 2020</td>\n",
       "      <td>402</td>\n",
       "      <td>152</td>\n",
       "      <td>15</td>\n",
       "      <td>881</td>\n",
       "      <td>9</td>\n",
       "      <td>198</td>\n",
       "      <td>9.516</td>\n",
       "      <td>11.695</td>\n",
       "      <td>15.12</td>\n",
       "      <td>0:10:21</td>\n",
       "      <td>21350</td>\n",
       "      <td>3687.3387</td>\n",
       "      <td>189</td>\n",
       "      <td>202.963</td>\n",
       "      <td>442334</td>\n",
       "      <td>2.53</td>\n",
       "    </tr>\n",
       "    <tr>\n",
       "      <th>4</th>\n",
       "      <td>uXLnbdHMf8w</td>\n",
       "      <td>Why I'm Starting Data Science Over Again.</td>\n",
       "      <td>Aug 29, 2020</td>\n",
       "      <td>375</td>\n",
       "      <td>367</td>\n",
       "      <td>22</td>\n",
       "      <td>2622</td>\n",
       "      <td>40</td>\n",
       "      <td>1957</td>\n",
       "      <td>3.143</td>\n",
       "      <td>7.943</td>\n",
       "      <td>33.41</td>\n",
       "      <td>0:02:36</td>\n",
       "      <td>49564</td>\n",
       "      <td>2148.3110</td>\n",
       "      <td>1917</td>\n",
       "      <td>155.779</td>\n",
       "      <td>521185</td>\n",
       "      <td>4.01</td>\n",
       "    </tr>\n",
       "    <tr>\n",
       "      <th>...</th>\n",
       "      <td>...</td>\n",
       "      <td>...</td>\n",
       "      <td>...</td>\n",
       "      <td>...</td>\n",
       "      <td>...</td>\n",
       "      <td>...</td>\n",
       "      <td>...</td>\n",
       "      <td>...</td>\n",
       "      <td>...</td>\n",
       "      <td>...</td>\n",
       "      <td>...</td>\n",
       "      <td>...</td>\n",
       "      <td>...</td>\n",
       "      <td>...</td>\n",
       "      <td>...</td>\n",
       "      <td>...</td>\n",
       "      <td>...</td>\n",
       "      <td>...</td>\n",
       "      <td>...</td>\n",
       "    </tr>\n",
       "    <tr>\n",
       "      <th>219</th>\n",
       "      <td>FBgs-BSTIJE</td>\n",
       "      <td>Demystifying Data Science Roles</td>\n",
       "      <td>Nov 30, 2018</td>\n",
       "      <td>3</td>\n",
       "      <td>5</td>\n",
       "      <td>1</td>\n",
       "      <td>48</td>\n",
       "      <td>1</td>\n",
       "      <td>8</td>\n",
       "      <td>5.218</td>\n",
       "      <td>16.232</td>\n",
       "      <td>55.55</td>\n",
       "      <td>0:03:28</td>\n",
       "      <td>978</td>\n",
       "      <td>56.5930</td>\n",
       "      <td>7</td>\n",
       "      <td>5.103</td>\n",
       "      <td>26202</td>\n",
       "      <td>2.24</td>\n",
       "    </tr>\n",
       "    <tr>\n",
       "      <th>220</th>\n",
       "      <td>Yr5T3T4tq-g</td>\n",
       "      <td>Most Data Science Hopefuls Overlook This Impor...</td>\n",
       "      <td>May 25, 2019</td>\n",
       "      <td>3</td>\n",
       "      <td>0</td>\n",
       "      <td>0</td>\n",
       "      <td>44</td>\n",
       "      <td>0</td>\n",
       "      <td>5</td>\n",
       "      <td>3.374</td>\n",
       "      <td>15.596</td>\n",
       "      <td>58.62</td>\n",
       "      <td>0:02:06</td>\n",
       "      <td>548</td>\n",
       "      <td>19.2752</td>\n",
       "      <td>5</td>\n",
       "      <td>1.849</td>\n",
       "      <td>21780</td>\n",
       "      <td>1.61</td>\n",
       "    </tr>\n",
       "    <tr>\n",
       "      <th>221</th>\n",
       "      <td>j-Z-je6K4Yg</td>\n",
       "      <td>IT'S NOT TOO LATE TO LEARN CODE!</td>\n",
       "      <td>Dec 18, 2018</td>\n",
       "      <td>3</td>\n",
       "      <td>1</td>\n",
       "      <td>0</td>\n",
       "      <td>35</td>\n",
       "      <td>0</td>\n",
       "      <td>7</td>\n",
       "      <td>3.784</td>\n",
       "      <td>12.590</td>\n",
       "      <td>60.52</td>\n",
       "      <td>0:01:52</td>\n",
       "      <td>721</td>\n",
       "      <td>22.5450</td>\n",
       "      <td>7</td>\n",
       "      <td>2.728</td>\n",
       "      <td>18635</td>\n",
       "      <td>2.65</td>\n",
       "    </tr>\n",
       "    <tr>\n",
       "      <th>222</th>\n",
       "      <td>5jntoZX-Tc8</td>\n",
       "      <td>NASA Physicist Turned Data Scientist (Tim Bowl...</td>\n",
       "      <td>May 5, 2019</td>\n",
       "      <td>2</td>\n",
       "      <td>5</td>\n",
       "      <td>0</td>\n",
       "      <td>38</td>\n",
       "      <td>0</td>\n",
       "      <td>3</td>\n",
       "      <td>2.651</td>\n",
       "      <td>12.206</td>\n",
       "      <td>16.93</td>\n",
       "      <td>0:03:09</td>\n",
       "      <td>1094</td>\n",
       "      <td>57.6363</td>\n",
       "      <td>3</td>\n",
       "      <td>2.900</td>\n",
       "      <td>34642</td>\n",
       "      <td>1.99</td>\n",
       "    </tr>\n",
       "    <tr>\n",
       "      <th>223</th>\n",
       "      <td>5p73cIRYCZg</td>\n",
       "      <td>ProjectDemoCSC478_UFCFightData</td>\n",
       "      <td>Jun 6, 2017</td>\n",
       "      <td>0</td>\n",
       "      <td>2</td>\n",
       "      <td>0</td>\n",
       "      <td>1</td>\n",
       "      <td>0</td>\n",
       "      <td>0</td>\n",
       "      <td>0.050</td>\n",
       "      <td>NaN</td>\n",
       "      <td>8.79</td>\n",
       "      <td>0:01:04</td>\n",
       "      <td>60</td>\n",
       "      <td>1.0684</td>\n",
       "      <td>0</td>\n",
       "      <td>0.003</td>\n",
       "      <td>365</td>\n",
       "      <td>11.51</td>\n",
       "    </tr>\n",
       "  </tbody>\n",
       "</table>\n",
       "<p>224 rows × 19 columns</p>\n",
       "</div>"
      ],
      "text/plain": [
       "           Video                                        Video title  \\\n",
       "0          Total                                                NaN   \n",
       "1    4OZip0cgOho  How I Would Learn Data Science (If I Had to St...   \n",
       "2    78LjdAAw0wA                  100K Channel Update + AMA Stream!   \n",
       "3    hO_YKK_0Qck  Uber Driver to Machine Learning Engineer in 9 ...   \n",
       "4    uXLnbdHMf8w          Why I'm Starting Data Science Over Again.   \n",
       "..           ...                                                ...   \n",
       "219  FBgs-BSTIJE                    Demystifying Data Science Roles   \n",
       "220  Yr5T3T4tq-g  Most Data Science Hopefuls Overlook This Impor...   \n",
       "221  j-Z-je6K4Yg                   IT'S NOT TOO LATE TO LEARN CODE!   \n",
       "222  5jntoZX-Tc8  NASA Physicist Turned Data Scientist (Tim Bowl...   \n",
       "223  5p73cIRYCZg                     ProjectDemoCSC478_UFCFightData   \n",
       "\n",
       "    Video pub­lish time  Com­ments ad­ded  Shares  Dis­likes   Likes  \\\n",
       "0                   NaN             14197   39640       3902  225021   \n",
       "1           May 8, 2020               907    9583        942   46903   \n",
       "2          Nov 12, 2020               412       4          4     130   \n",
       "3          Jul 16, 2020               402     152         15     881   \n",
       "4          Aug 29, 2020               375     367         22    2622   \n",
       "..                  ...               ...     ...        ...     ...   \n",
       "219        Nov 30, 2018                 3       5          1      48   \n",
       "220        May 25, 2019                 3       0          0      44   \n",
       "221        Dec 18, 2018                 3       1          0      35   \n",
       "222         May 5, 2019                 2       5          0      38   \n",
       "223         Jun 6, 2017                 0       2          0       1   \n",
       "\n",
       "     Sub­scribers lost  Sub­scribers gained  RPM (USD)  CPM (USD)  \\\n",
       "0                45790               229241      5.276     11.990   \n",
       "1                  451                46904      6.353     12.835   \n",
       "2                   15                   12      2.668      6.259   \n",
       "3                    9                  198      9.516     11.695   \n",
       "4                   40                 1957      3.143      7.943   \n",
       "..                 ...                  ...        ...        ...   \n",
       "219                  1                    8      5.218     16.232   \n",
       "220                  0                    5      3.374     15.596   \n",
       "221                  0                    7      3.784     12.590   \n",
       "222                  0                    3      2.651     12.206   \n",
       "223                  0                    0      0.050        NaN   \n",
       "\n",
       "     Av­er­age per­cent­age viewed (%) Av­er­age view dur­a­tion    Views  \\\n",
       "0                                26.61                   0:03:25  5568487   \n",
       "1                                36.65                   0:03:09  1253559   \n",
       "2                                 6.26                   0:05:14     2291   \n",
       "3                                15.12                   0:10:21    21350   \n",
       "4                                33.41                   0:02:36    49564   \n",
       "..                                 ...                       ...      ...   \n",
       "219                              55.55                   0:03:28      978   \n",
       "220                              58.62                   0:02:06      548   \n",
       "221                              60.52                   0:01:52      721   \n",
       "222                              16.93                   0:03:09     1094   \n",
       "223                               8.79                   0:01:04       60   \n",
       "\n",
       "     Watch time (hours)  Sub­scribers  Your es­tim­ated rev­en­ue (USD)  \\\n",
       "0           317602.3536        183451                         29068.652   \n",
       "1            65850.7042         46453                          7959.533   \n",
       "2              200.2966            -3                             6.113   \n",
       "3             3687.3387           189                           202.963   \n",
       "4             2148.3110          1917                           155.779   \n",
       "..                  ...           ...                               ...   \n",
       "219             56.5930             7                             5.103   \n",
       "220             19.2752             5                             1.849   \n",
       "221             22.5450             7                             2.728   \n",
       "222             57.6363             3                             2.900   \n",
       "223              1.0684             0                             0.003   \n",
       "\n",
       "     Im­pres­sions  Im­pres­sions click-through rate (%)  \n",
       "0        100954064                                  3.16  \n",
       "1         26498799                                  3.14  \n",
       "2           188318                                  0.72  \n",
       "3           442334                                  2.53  \n",
       "4           521185                                  4.01  \n",
       "..             ...                                   ...  \n",
       "219          26202                                  2.24  \n",
       "220          21780                                  1.61  \n",
       "221          18635                                  2.65  \n",
       "222          34642                                  1.99  \n",
       "223            365                                 11.51  \n",
       "\n",
       "[224 rows x 19 columns]"
      ]
     },
     "execution_count": 1,
     "metadata": {},
     "output_type": "execute_result"
    }
   ],
   "source": [
    "import pandas as pd\n",
    "import numpy as np\n",
    "\n",
    "dataset = pd.read_csv(\"Aggregated_Metrics_By_Video.csv\")\n",
    "dataset"
   ]
  },
  {
   "cell_type": "markdown",
   "id": "7242dcd7",
   "metadata": {},
   "source": [
    "So, first thing is to whack off columns that I don't want or need."
   ]
  },
  {
   "cell_type": "markdown",
   "id": "cac38dd3",
   "metadata": {},
   "source": [
    "The first row is actually a total of all the others, so we're going to delete that."
   ]
  },
  {
   "cell_type": "code",
   "execution_count": 2,
   "id": "49be4b37",
   "metadata": {},
   "outputs": [],
   "source": [
    "dataset = dataset.drop(labels = 0, axis = 0)"
   ]
  },
  {
   "cell_type": "code",
   "execution_count": 3,
   "id": "796bee33",
   "metadata": {},
   "outputs": [
    {
     "data": {
      "text/plain": [
       "['Video',\n",
       " 'Video title',\n",
       " 'Video pub\\xadlish time',\n",
       " 'Com\\xadments ad\\xadded',\n",
       " 'Shares',\n",
       " 'Dis\\xadlikes',\n",
       " 'Likes',\n",
       " 'Sub\\xadscribers lost',\n",
       " 'Sub\\xadscribers gained',\n",
       " 'RPM (USD)',\n",
       " 'CPM (USD)',\n",
       " 'Av\\xader\\xadage per\\xadcent\\xadage viewed (%)',\n",
       " 'Av\\xader\\xadage view dur\\xada\\xadtion',\n",
       " 'Views',\n",
       " 'Watch time (hours)',\n",
       " 'Sub\\xadscribers',\n",
       " 'Your es\\xadtim\\xadated rev\\xaden\\xadue (USD)',\n",
       " 'Im\\xadpres\\xadsions',\n",
       " 'Im\\xadpres\\xadsions click-through rate (%)']"
      ]
     },
     "execution_count": 3,
     "metadata": {},
     "output_type": "execute_result"
    }
   ],
   "source": [
    "list(dataset.columns)"
   ]
  },
  {
   "cell_type": "code",
   "execution_count": 4,
   "id": "b849814f",
   "metadata": {},
   "outputs": [],
   "source": [
    "#whacky \"\\xad\" stuff was giving me trouble dropping columns\n",
    "dataset = dataset.drop(['Video', 'Video title', 'Video pub\\xadlish time', 'Sub\\xadscribers lost', \n",
    "                        'Sub\\xadscribers gained', 'Av\\xader\\xadage per\\xadcent\\xadage viewed (%)', \n",
    "                        'Av\\xader\\xadage view dur\\xada\\xadtion', 'Sub\\xadscribers', \n",
    "                        'Your es\\xadtim\\xadated rev\\xaden\\xadue (USD)', 'Im\\xadpres\\xadsions', \n",
    "                        'Im\\xadpres\\xadsions click-through rate (%)'], axis=1)"
   ]
  },
  {
   "cell_type": "code",
   "execution_count": 5,
   "id": "bc84df63",
   "metadata": {},
   "outputs": [
    {
     "data": {
      "text/html": [
       "<div>\n",
       "<style scoped>\n",
       "    .dataframe tbody tr th:only-of-type {\n",
       "        vertical-align: middle;\n",
       "    }\n",
       "\n",
       "    .dataframe tbody tr th {\n",
       "        vertical-align: top;\n",
       "    }\n",
       "\n",
       "    .dataframe thead th {\n",
       "        text-align: right;\n",
       "    }\n",
       "</style>\n",
       "<table border=\"1\" class=\"dataframe\">\n",
       "  <thead>\n",
       "    <tr style=\"text-align: right;\">\n",
       "      <th></th>\n",
       "      <th>Com­ments ad­ded</th>\n",
       "      <th>Shares</th>\n",
       "      <th>Dis­likes</th>\n",
       "      <th>Likes</th>\n",
       "      <th>RPM (USD)</th>\n",
       "      <th>CPM (USD)</th>\n",
       "      <th>Views</th>\n",
       "      <th>Watch time (hours)</th>\n",
       "    </tr>\n",
       "  </thead>\n",
       "  <tbody>\n",
       "    <tr>\n",
       "      <th>1</th>\n",
       "      <td>907</td>\n",
       "      <td>9583</td>\n",
       "      <td>942</td>\n",
       "      <td>46903</td>\n",
       "      <td>6.353</td>\n",
       "      <td>12.835</td>\n",
       "      <td>1253559</td>\n",
       "      <td>65850.7042</td>\n",
       "    </tr>\n",
       "    <tr>\n",
       "      <th>2</th>\n",
       "      <td>412</td>\n",
       "      <td>4</td>\n",
       "      <td>4</td>\n",
       "      <td>130</td>\n",
       "      <td>2.668</td>\n",
       "      <td>6.259</td>\n",
       "      <td>2291</td>\n",
       "      <td>200.2966</td>\n",
       "    </tr>\n",
       "    <tr>\n",
       "      <th>3</th>\n",
       "      <td>402</td>\n",
       "      <td>152</td>\n",
       "      <td>15</td>\n",
       "      <td>881</td>\n",
       "      <td>9.516</td>\n",
       "      <td>11.695</td>\n",
       "      <td>21350</td>\n",
       "      <td>3687.3387</td>\n",
       "    </tr>\n",
       "    <tr>\n",
       "      <th>4</th>\n",
       "      <td>375</td>\n",
       "      <td>367</td>\n",
       "      <td>22</td>\n",
       "      <td>2622</td>\n",
       "      <td>3.143</td>\n",
       "      <td>7.943</td>\n",
       "      <td>49564</td>\n",
       "      <td>2148.3110</td>\n",
       "    </tr>\n",
       "    <tr>\n",
       "      <th>5</th>\n",
       "      <td>329</td>\n",
       "      <td>118</td>\n",
       "      <td>15</td>\n",
       "      <td>590</td>\n",
       "      <td>2.973</td>\n",
       "      <td>7.425</td>\n",
       "      <td>13429</td>\n",
       "      <td>1034.3945</td>\n",
       "    </tr>\n",
       "    <tr>\n",
       "      <th>...</th>\n",
       "      <td>...</td>\n",
       "      <td>...</td>\n",
       "      <td>...</td>\n",
       "      <td>...</td>\n",
       "      <td>...</td>\n",
       "      <td>...</td>\n",
       "      <td>...</td>\n",
       "      <td>...</td>\n",
       "    </tr>\n",
       "    <tr>\n",
       "      <th>219</th>\n",
       "      <td>3</td>\n",
       "      <td>5</td>\n",
       "      <td>1</td>\n",
       "      <td>48</td>\n",
       "      <td>5.218</td>\n",
       "      <td>16.232</td>\n",
       "      <td>978</td>\n",
       "      <td>56.5930</td>\n",
       "    </tr>\n",
       "    <tr>\n",
       "      <th>220</th>\n",
       "      <td>3</td>\n",
       "      <td>0</td>\n",
       "      <td>0</td>\n",
       "      <td>44</td>\n",
       "      <td>3.374</td>\n",
       "      <td>15.596</td>\n",
       "      <td>548</td>\n",
       "      <td>19.2752</td>\n",
       "    </tr>\n",
       "    <tr>\n",
       "      <th>221</th>\n",
       "      <td>3</td>\n",
       "      <td>1</td>\n",
       "      <td>0</td>\n",
       "      <td>35</td>\n",
       "      <td>3.784</td>\n",
       "      <td>12.590</td>\n",
       "      <td>721</td>\n",
       "      <td>22.5450</td>\n",
       "    </tr>\n",
       "    <tr>\n",
       "      <th>222</th>\n",
       "      <td>2</td>\n",
       "      <td>5</td>\n",
       "      <td>0</td>\n",
       "      <td>38</td>\n",
       "      <td>2.651</td>\n",
       "      <td>12.206</td>\n",
       "      <td>1094</td>\n",
       "      <td>57.6363</td>\n",
       "    </tr>\n",
       "    <tr>\n",
       "      <th>223</th>\n",
       "      <td>0</td>\n",
       "      <td>2</td>\n",
       "      <td>0</td>\n",
       "      <td>1</td>\n",
       "      <td>0.050</td>\n",
       "      <td>NaN</td>\n",
       "      <td>60</td>\n",
       "      <td>1.0684</td>\n",
       "    </tr>\n",
       "  </tbody>\n",
       "</table>\n",
       "<p>223 rows × 8 columns</p>\n",
       "</div>"
      ],
      "text/plain": [
       "     Com­ments ad­ded  Shares  Dis­likes  Likes  RPM (USD)  CPM (USD)  \\\n",
       "1                 907    9583        942  46903      6.353     12.835   \n",
       "2                 412       4          4    130      2.668      6.259   \n",
       "3                 402     152         15    881      9.516     11.695   \n",
       "4                 375     367         22   2622      3.143      7.943   \n",
       "5                 329     118         15    590      2.973      7.425   \n",
       "..                ...     ...        ...    ...        ...        ...   \n",
       "219                 3       5          1     48      5.218     16.232   \n",
       "220                 3       0          0     44      3.374     15.596   \n",
       "221                 3       1          0     35      3.784     12.590   \n",
       "222                 2       5          0     38      2.651     12.206   \n",
       "223                 0       2          0      1      0.050        NaN   \n",
       "\n",
       "       Views  Watch time (hours)  \n",
       "1    1253559          65850.7042  \n",
       "2       2291            200.2966  \n",
       "3      21350           3687.3387  \n",
       "4      49564           2148.3110  \n",
       "5      13429           1034.3945  \n",
       "..       ...                 ...  \n",
       "219      978             56.5930  \n",
       "220      548             19.2752  \n",
       "221      721             22.5450  \n",
       "222     1094             57.6363  \n",
       "223       60              1.0684  \n",
       "\n",
       "[223 rows x 8 columns]"
      ]
     },
     "execution_count": 5,
     "metadata": {},
     "output_type": "execute_result"
    }
   ],
   "source": [
    "dataset"
   ]
  },
  {
   "cell_type": "code",
   "execution_count": 6,
   "id": "7d14c170",
   "metadata": {},
   "outputs": [
    {
     "data": {
      "text/plain": [
       "['Com\\xadments ad\\xadded',\n",
       " 'Shares',\n",
       " 'Dis\\xadlikes',\n",
       " 'Likes',\n",
       " 'RPM (USD)',\n",
       " 'CPM (USD)',\n",
       " 'Views',\n",
       " 'Watch time (hours)']"
      ]
     },
     "execution_count": 6,
     "metadata": {},
     "output_type": "execute_result"
    }
   ],
   "source": [
    "list(dataset.columns)"
   ]
  },
  {
   "cell_type": "code",
   "execution_count": 7,
   "id": "0a29af65",
   "metadata": {},
   "outputs": [],
   "source": [
    "#I'm going to fix the two columns with \"\\xad\" in it before starting\n",
    "dataset.rename(columns = {'Com\\xadments ad\\xadded':'Comments added', 'Dis\\xadlikes':'Dislikes'}, inplace=True)"
   ]
  },
  {
   "cell_type": "code",
   "execution_count": 8,
   "id": "4d87b6d0",
   "metadata": {},
   "outputs": [
    {
     "data": {
      "text/plain": [
       "['Comments added',\n",
       " 'Shares',\n",
       " 'Dislikes',\n",
       " 'Likes',\n",
       " 'RPM (USD)',\n",
       " 'CPM (USD)',\n",
       " 'Views',\n",
       " 'Watch time (hours)']"
      ]
     },
     "execution_count": 8,
     "metadata": {},
     "output_type": "execute_result"
    }
   ],
   "source": [
    "list(dataset.columns)"
   ]
  },
  {
   "cell_type": "code",
   "execution_count": 9,
   "id": "5a30191e",
   "metadata": {},
   "outputs": [
    {
     "data": {
      "text/plain": [
       "Comments added        0\n",
       "Shares                0\n",
       "Dislikes              0\n",
       "Likes                 0\n",
       "RPM (USD)             0\n",
       "CPM (USD)             2\n",
       "Views                 0\n",
       "Watch time (hours)    0\n",
       "dtype: int64"
      ]
     },
     "execution_count": 9,
     "metadata": {},
     "output_type": "execute_result"
    }
   ],
   "source": [
    "dataset.isna().sum()"
   ]
  },
  {
   "cell_type": "code",
   "execution_count": 10,
   "id": "9cde7178",
   "metadata": {},
   "outputs": [],
   "source": [
    "#Since there are only two nulls, I'll just remove those two rows.\n",
    "dataset = dataset.dropna(axis=0)"
   ]
  },
  {
   "cell_type": "code",
   "execution_count": 11,
   "id": "65c4caa3",
   "metadata": {},
   "outputs": [
    {
     "data": {
      "text/plain": [
       "Comments added        0\n",
       "Shares                0\n",
       "Dislikes              0\n",
       "Likes                 0\n",
       "RPM (USD)             0\n",
       "CPM (USD)             0\n",
       "Views                 0\n",
       "Watch time (hours)    0\n",
       "dtype: int64"
      ]
     },
     "execution_count": 11,
     "metadata": {},
     "output_type": "execute_result"
    }
   ],
   "source": [
    "dataset.isna().sum()"
   ]
  },
  {
   "cell_type": "markdown",
   "id": "a49ae15b",
   "metadata": {},
   "source": [
    "I'm also going to use Standard Scaler from scikit to standardize my data because some of it isn't in the same scale (RPM, CPM) as the others (Views, etc)."
   ]
  },
  {
   "cell_type": "code",
   "execution_count": 12,
   "id": "796266a3",
   "metadata": {},
   "outputs": [
    {
     "data": {
      "text/html": [
       "<div>\n",
       "<style scoped>\n",
       "    .dataframe tbody tr th:only-of-type {\n",
       "        vertical-align: middle;\n",
       "    }\n",
       "\n",
       "    .dataframe tbody tr th {\n",
       "        vertical-align: top;\n",
       "    }\n",
       "\n",
       "    .dataframe thead th {\n",
       "        text-align: right;\n",
       "    }\n",
       "</style>\n",
       "<table border=\"1\" class=\"dataframe\">\n",
       "  <thead>\n",
       "    <tr style=\"text-align: right;\">\n",
       "      <th></th>\n",
       "      <th>Comments added</th>\n",
       "      <th>Shares</th>\n",
       "      <th>Dislikes</th>\n",
       "      <th>Likes</th>\n",
       "      <th>RPM (USD)</th>\n",
       "      <th>CPM (USD)</th>\n",
       "      <th>Views</th>\n",
       "      <th>Watch time (hours)</th>\n",
       "    </tr>\n",
       "  </thead>\n",
       "  <tbody>\n",
       "    <tr>\n",
       "      <th>0</th>\n",
       "      <td>9.196851</td>\n",
       "      <td>12.797510</td>\n",
       "      <td>13.258248</td>\n",
       "      <td>12.799840</td>\n",
       "      <td>1.073662</td>\n",
       "      <td>0.418253</td>\n",
       "      <td>13.681471</td>\n",
       "      <td>13.382358</td>\n",
       "    </tr>\n",
       "    <tr>\n",
       "      <th>1</th>\n",
       "      <td>3.796768</td>\n",
       "      <td>-0.238564</td>\n",
       "      <td>-0.195612</td>\n",
       "      <td>-0.247518</td>\n",
       "      <td>-1.036712</td>\n",
       "      <td>-1.553811</td>\n",
       "      <td>-0.254939</td>\n",
       "      <td>-0.256918</td>\n",
       "    </tr>\n",
       "    <tr>\n",
       "      <th>2</th>\n",
       "      <td>3.687675</td>\n",
       "      <td>-0.037151</td>\n",
       "      <td>-0.037837</td>\n",
       "      <td>-0.038026</td>\n",
       "      <td>2.885090</td>\n",
       "      <td>0.076381</td>\n",
       "      <td>-0.042663</td>\n",
       "      <td>0.467537</td>\n",
       "    </tr>\n",
       "    <tr>\n",
       "      <th>3</th>\n",
       "      <td>3.393125</td>\n",
       "      <td>0.255443</td>\n",
       "      <td>0.062565</td>\n",
       "      <td>0.447627</td>\n",
       "      <td>-0.764682</td>\n",
       "      <td>-1.048800</td>\n",
       "      <td>0.271580</td>\n",
       "      <td>0.147794</td>\n",
       "    </tr>\n",
       "    <tr>\n",
       "      <th>4</th>\n",
       "      <td>2.891299</td>\n",
       "      <td>-0.083421</td>\n",
       "      <td>-0.037837</td>\n",
       "      <td>-0.119200</td>\n",
       "      <td>-0.862040</td>\n",
       "      <td>-1.204142</td>\n",
       "      <td>-0.130885</td>\n",
       "      <td>-0.083629</td>\n",
       "    </tr>\n",
       "    <tr>\n",
       "      <th>...</th>\n",
       "      <td>...</td>\n",
       "      <td>...</td>\n",
       "      <td>...</td>\n",
       "      <td>...</td>\n",
       "      <td>...</td>\n",
       "      <td>...</td>\n",
       "      <td>...</td>\n",
       "      <td>...</td>\n",
       "    </tr>\n",
       "    <tr>\n",
       "      <th>216</th>\n",
       "      <td>-0.654210</td>\n",
       "      <td>-0.237203</td>\n",
       "      <td>-0.252984</td>\n",
       "      <td>-0.275413</td>\n",
       "      <td>0.294227</td>\n",
       "      <td>7.900762</td>\n",
       "      <td>-0.266811</td>\n",
       "      <td>-0.296532</td>\n",
       "    </tr>\n",
       "    <tr>\n",
       "      <th>217</th>\n",
       "      <td>-0.665119</td>\n",
       "      <td>-0.237203</td>\n",
       "      <td>-0.238641</td>\n",
       "      <td>-0.270392</td>\n",
       "      <td>0.423655</td>\n",
       "      <td>1.436973</td>\n",
       "      <td>-0.269562</td>\n",
       "      <td>-0.286773</td>\n",
       "    </tr>\n",
       "    <tr>\n",
       "      <th>218</th>\n",
       "      <td>-0.665119</td>\n",
       "      <td>-0.244008</td>\n",
       "      <td>-0.252984</td>\n",
       "      <td>-0.271507</td>\n",
       "      <td>-0.632390</td>\n",
       "      <td>1.246244</td>\n",
       "      <td>-0.274352</td>\n",
       "      <td>-0.294526</td>\n",
       "    </tr>\n",
       "    <tr>\n",
       "      <th>219</th>\n",
       "      <td>-0.665119</td>\n",
       "      <td>-0.242647</td>\n",
       "      <td>-0.252984</td>\n",
       "      <td>-0.274018</td>\n",
       "      <td>-0.397586</td>\n",
       "      <td>0.344780</td>\n",
       "      <td>-0.272425</td>\n",
       "      <td>-0.293847</td>\n",
       "    </tr>\n",
       "    <tr>\n",
       "      <th>220</th>\n",
       "      <td>-0.676028</td>\n",
       "      <td>-0.237203</td>\n",
       "      <td>-0.252984</td>\n",
       "      <td>-0.273181</td>\n",
       "      <td>-1.046447</td>\n",
       "      <td>0.229623</td>\n",
       "      <td>-0.268271</td>\n",
       "      <td>-0.286556</td>\n",
       "    </tr>\n",
       "  </tbody>\n",
       "</table>\n",
       "<p>221 rows × 8 columns</p>\n",
       "</div>"
      ],
      "text/plain": [
       "     Comments added     Shares   Dislikes      Likes  RPM (USD)  CPM (USD)  \\\n",
       "0          9.196851  12.797510  13.258248  12.799840   1.073662   0.418253   \n",
       "1          3.796768  -0.238564  -0.195612  -0.247518  -1.036712  -1.553811   \n",
       "2          3.687675  -0.037151  -0.037837  -0.038026   2.885090   0.076381   \n",
       "3          3.393125   0.255443   0.062565   0.447627  -0.764682  -1.048800   \n",
       "4          2.891299  -0.083421  -0.037837  -0.119200  -0.862040  -1.204142   \n",
       "..              ...        ...        ...        ...        ...        ...   \n",
       "216       -0.654210  -0.237203  -0.252984  -0.275413   0.294227   7.900762   \n",
       "217       -0.665119  -0.237203  -0.238641  -0.270392   0.423655   1.436973   \n",
       "218       -0.665119  -0.244008  -0.252984  -0.271507  -0.632390   1.246244   \n",
       "219       -0.665119  -0.242647  -0.252984  -0.274018  -0.397586   0.344780   \n",
       "220       -0.676028  -0.237203  -0.252984  -0.273181  -1.046447   0.229623   \n",
       "\n",
       "         Views  Watch time (hours)  \n",
       "0    13.681471           13.382358  \n",
       "1    -0.254939           -0.256918  \n",
       "2    -0.042663            0.467537  \n",
       "3     0.271580            0.147794  \n",
       "4    -0.130885           -0.083629  \n",
       "..         ...                 ...  \n",
       "216  -0.266811           -0.296532  \n",
       "217  -0.269562           -0.286773  \n",
       "218  -0.274352           -0.294526  \n",
       "219  -0.272425           -0.293847  \n",
       "220  -0.268271           -0.286556  \n",
       "\n",
       "[221 rows x 8 columns]"
      ]
     },
     "execution_count": 12,
     "metadata": {},
     "output_type": "execute_result"
    }
   ],
   "source": [
    "from sklearn.preprocessing import StandardScaler\n",
    "scale = StandardScaler().fit_transform(dataset)\n",
    "dataset_scaled = pd.DataFrame(scale, columns = dataset.columns)\n",
    "dataset_scaled"
   ]
  },
  {
   "cell_type": "markdown",
   "id": "c00d0b66",
   "metadata": {},
   "source": [
    "Ok, now I've removed and fixed up my columns, I'm going to visualize some of the features against each other to see if they have any potential relationship to begin with that perhaps the clustering algorithms can utilize later. I'll also utilize a heatmap to notice correlations."
   ]
  },
  {
   "cell_type": "code",
   "execution_count": 15,
   "id": "4803b768",
   "metadata": {},
   "outputs": [
    {
     "data": {
      "text/plain": [
       "<AxesSubplot:>"
      ]
     },
     "execution_count": 15,
     "metadata": {},
     "output_type": "execute_result"
    },
    {
     "data": {
      "image/png": "[encoded data removed]",
      "text/plain": [
       "<Figure size 432x288 with 2 Axes>"
      ]
     },
     "metadata": {
      "needs_background": "light"
     },
     "output_type": "display_data"
    }
   ],
   "source": [
    "import seaborn as sns\n",
    "import matplotlib as plt\n",
    "corr = dataset_scaled.corr()\n",
    "sns.heatmap(corr, annot=True)"
   ]
  },
  {
   "cell_type": "code",
   "execution_count": 16,
   "id": "f97e54e1",
   "metadata": {},
   "outputs": [
    {
     "data": {
      "text/plain": [
       "<AxesSubplot:xlabel='Dislikes', ylabel='Likes'>"
      ]
     },
     "execution_count": 16,
     "metadata": {},
     "output_type": "execute_result"
    },
    {
     "data": {
      "image/png": "[encoded data removed]",
      "text/plain": [
       "<Figure size 432x288 with 1 Axes>"
      ]
     },
     "metadata": {
      "needs_background": "light"
     },
     "output_type": "display_data"
    }
   ],
   "source": [
    "dataset_scaled.plot(x = \"Dislikes\", y = \"Likes\", kind=\"scatter\")"
   ]
  },
  {
   "cell_type": "code",
   "execution_count": 17,
   "id": "430b1bee",
   "metadata": {},
   "outputs": [
    {
     "data": {
      "text/plain": [
       "<AxesSubplot:xlabel='Views', ylabel='Likes'>"
      ]
     },
     "execution_count": 17,
     "metadata": {},
     "output_type": "execute_result"
    },
    {
     "data": {
      "image/png": "[encoded data removed]",
      "text/plain": [
       "<Figure size 432x288 with 1 Axes>"
      ]
     },
     "metadata": {
      "needs_background": "light"
     },
     "output_type": "display_data"
    }
   ],
   "source": [
    "dataset_scaled.plot(x = \"Views\", y = \"Likes\", kind=\"scatter\")"
   ]
  },
  {
   "cell_type": "markdown",
   "id": "6d185574",
   "metadata": {},
   "source": [
    "Now these are starting to give a clearer picture. There are definitely some correlations present in the heatmap, like Shares and Likes, so I'm curious to find out how the clustering models are going to handle this data. Even out of two relationships that I plotted, Views and Likes visually seems to have a positive relationship with each other, but with the rest of the data, does this persist, and can this help to cluster?"
   ]
  },
  {
   "cell_type": "markdown",
   "id": "1a63de24",
   "metadata": {},
   "source": [
    "The last step of pre-processing I'm going to do is using PCA to reduce the dimensionality down to 2. This will allow for better visualizations later with the clustering."
   ]
  },
  {
   "cell_type": "code",
   "execution_count": 21,
   "id": "de4325ae",
   "metadata": {},
   "outputs": [
    {
     "data": {
      "text/html": [
       "<div>\n",
       "<style scoped>\n",
       "    .dataframe tbody tr th:only-of-type {\n",
       "        vertical-align: middle;\n",
       "    }\n",
       "\n",
       "    .dataframe tbody tr th {\n",
       "        vertical-align: top;\n",
       "    }\n",
       "\n",
       "    .dataframe thead th {\n",
       "        text-align: right;\n",
       "    }\n",
       "</style>\n",
       "<table border=\"1\" class=\"dataframe\">\n",
       "  <thead>\n",
       "    <tr style=\"text-align: right;\">\n",
       "      <th></th>\n",
       "      <th>0</th>\n",
       "      <th>1</th>\n",
       "    </tr>\n",
       "  </thead>\n",
       "  <tbody>\n",
       "    <tr>\n",
       "      <th>0</th>\n",
       "      <td>30.827970</td>\n",
       "      <td>-0.924571</td>\n",
       "    </tr>\n",
       "    <tr>\n",
       "      <th>1</th>\n",
       "      <td>0.687853</td>\n",
       "      <td>-2.181323</td>\n",
       "    </tr>\n",
       "    <tr>\n",
       "      <th>2</th>\n",
       "      <td>1.633366</td>\n",
       "      <td>1.671102</td>\n",
       "    </tr>\n",
       "    <tr>\n",
       "      <th>3</th>\n",
       "      <td>1.580684</td>\n",
       "      <td>-1.648491</td>\n",
       "    </tr>\n",
       "    <tr>\n",
       "      <th>4</th>\n",
       "      <td>0.706790</td>\n",
       "      <td>-1.731063</td>\n",
       "    </tr>\n",
       "    <tr>\n",
       "      <th>...</th>\n",
       "      <td>...</td>\n",
       "      <td>...</td>\n",
       "    </tr>\n",
       "    <tr>\n",
       "      <th>216</th>\n",
       "      <td>-0.617366</td>\n",
       "      <td>5.968807</td>\n",
       "    </tr>\n",
       "    <tr>\n",
       "      <th>217</th>\n",
       "      <td>-0.713397</td>\n",
       "      <td>1.410355</td>\n",
       "    </tr>\n",
       "    <tr>\n",
       "      <th>218</th>\n",
       "      <td>-0.817694</td>\n",
       "      <td>0.550700</td>\n",
       "    </tr>\n",
       "    <tr>\n",
       "      <th>219</th>\n",
       "      <td>-0.813683</td>\n",
       "      <td>0.063095</td>\n",
       "    </tr>\n",
       "    <tr>\n",
       "      <th>220</th>\n",
       "      <td>-0.865130</td>\n",
       "      <td>-0.462896</td>\n",
       "    </tr>\n",
       "  </tbody>\n",
       "</table>\n",
       "<p>221 rows × 2 columns</p>\n",
       "</div>"
      ],
      "text/plain": [
       "             0         1\n",
       "0    30.827970 -0.924571\n",
       "1     0.687853 -2.181323\n",
       "2     1.633366  1.671102\n",
       "3     1.580684 -1.648491\n",
       "4     0.706790 -1.731063\n",
       "..         ...       ...\n",
       "216  -0.617366  5.968807\n",
       "217  -0.713397  1.410355\n",
       "218  -0.817694  0.550700\n",
       "219  -0.813683  0.063095\n",
       "220  -0.865130 -0.462896\n",
       "\n",
       "[221 rows x 2 columns]"
      ]
     },
     "execution_count": 21,
     "metadata": {},
     "output_type": "execute_result"
    }
   ],
   "source": [
    "from sklearn.decomposition import PCA\n",
    "pca = PCA(n_components = 2)\n",
    "dataset_pca = pca.fit_transform(dataset_scaled)\n",
    "dataset_pca = pd.DataFrame(dataset_pca)\n",
    "dataset_pca"
   ]
  },
  {
   "cell_type": "markdown",
   "id": "9c7ae212",
   "metadata": {},
   "source": [
    "## Modeling"
   ]
  },
  {
   "cell_type": "markdown",
   "id": "7ef2840b",
   "metadata": {},
   "source": [
    "Ok, now time to jump into the modeling phase of the project. To reiterate, I'm going to be using both K-means clustering and agglomerative hierarcal clustering to see if this data can be clustered into distinctive groups."
   ]
  },
  {
   "cell_type": "markdown",
   "id": "69e52561",
   "metadata": {},
   "source": [
    "** From here I'm going to use the graphs needed to find ideal number of clusters for both K-means and agglomerative then use the models, then discuss results **"
   ]
  },
  {
   "cell_type": "markdown",
   "id": "4f1135d8",
   "metadata": {},
   "source": [
    "## Sources"
   ]
  },
  {
   "cell_type": "markdown",
   "id": "4510ea86",
   "metadata": {},
   "source": [
    "<ul>\n",
    "    <li>https://www.kaggle.com/datasets/thedevastator/youtube-analytics-how-to-keep-your-viewers-engag</li>\n",
    "    <li>https://towardsdatascience.com/the-5-clustering-algorithms-data-scientists-need-to-know-a36d136ef68</li>\n",
    "</ul>"
   ]
  },
  {
   "cell_type": "code",
   "execution_count": null,
   "id": "935857d1",
   "metadata": {},
   "outputs": [],
   "source": []
  }
 ],
 "metadata": {
  "kernelspec": {
   "display_name": "Python 3 (ipykernel)",
   "language": "python",
   "name": "python3"
  },
  "language_info": {
   "codemirror_mode": {
    "name": "ipython",
    "version": 3
   },
   "file_extension": ".py",
   "mimetype": "text/x-python",
   "name": "python",
   "nbconvert_exporter": "python",
   "pygments_lexer": "ipython3",
   "version": "3.9.12"
  }
 },
 "nbformat": 4,
 "nbformat_minor": 5
}
